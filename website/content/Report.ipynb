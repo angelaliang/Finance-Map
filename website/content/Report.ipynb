{
 "metadata": {
  "name": "Report"
 },
 "nbformat": 3,
 "nbformat_minor": 0,
 "worksheets": [
  {
   "cells": [
    {
     "cell_type": "heading",
     "level": 1,
     "metadata": {},
     "source": "Project Report"
    },
    {
     "cell_type": "heading",
     "level": 2,
     "metadata": {},
     "source": "Our problem as stated in the propectus"
    },
    {
     "cell_type": "markdown",
     "metadata": {},
     "source": "- "
    },
    {
     "cell_type": "heading",
     "level": 2,
     "metadata": {},
     "source": "Our data sources, their format, and the difficulties to get them"
    },
    {
     "cell_type": "code",
     "collapsed": false,
     "input": "",
     "language": "python",
     "metadata": {},
     "outputs": []
    },
    {
     "cell_type": "heading",
     "level": 2,
     "metadata": {},
     "source": "Main challenge"
    },
    {
     "cell_type": "code",
     "collapsed": false,
     "input": "",
     "language": "python",
     "metadata": {},
     "outputs": []
    },
    {
     "cell_type": "heading",
     "level": 2,
     "metadata": {},
     "source": "Our Finding"
    },
    {
     "cell_type": "heading",
     "level": 3,
     "metadata": {},
     "source": "Measuring the Dependence of Each Country on Other Countries"
    },
    {
     "cell_type": "markdown",
     "metadata": {},
     "source": "- There is a pattern that export-orientated economics (Cancada, Germany, Sweden, Taiwan, etc.) tend to have higher correlations with other economics' performance. In other words, they are more independent of other economics to do well in order for them to do well. \n\n- We see that the US is by far the most independent of the 11 countries. This concurs with our conclusion because US is a consuming imports from other countries and have a well-rounded trade relation with them. "
    },
    {
     "cell_type": "heading",
     "level": 2,
     "metadata": {},
     "source": "US Specific Correlations"
    },
    {
     "cell_type": "markdown",
     "metadata": {},
     "source": "- The UK has the highest correlation with the US. This makes sense as its known that the two nations are heavily involved. From Wikipedia, we see that \"The UK has always been the biggest foreign investor in the US and vice versa.\" (http://en.wikipedia.org/wiki/United_Kingdom%E2%80%93United_States_relations). This is referred to as the \"special relationship\" between the US and UK.\n\n- Japan and US have a near-zero correlation, despite their good economic ties. This can be explained by Japan's economic troubles over the past decade. (http://qz.com/198458/zombies-once-destroyed-japans-economy-now-theyre-infecting-chinas/)\n\n- European (excluding UK) countries are all very closely tied, with correlation near 1 between each pair.\n\n- Despite these close ties, the correlations between France and the Netherlands and the US are much lower than that of Germany and Sweden. Any idea of an explanation for this?\n\n- Generally, the US has much less of a dependence on foreign nations than other countries."
    },
    {
     "cell_type": "heading",
     "level": 2,
     "metadata": {},
     "source": "Looking specifically at European countries"
    },
    {
     "cell_type": "markdown",
     "metadata": {},
     "source": "- As we would expect, UK, France, Germany, Sweden, and the Netherlands corrrelate highly with each other.\n- Germany, Sweden, and the Netherlands all have the lowest correlation with the UK compared to other continental Enropean countries because UK is still not part of the eurozone. "
    },
    {
     "cell_type": "code",
     "collapsed": false,
     "input": "",
     "language": "python",
     "metadata": {},
     "outputs": []
    }
   ],
   "metadata": {}
  }
 ]
}